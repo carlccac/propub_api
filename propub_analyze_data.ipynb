{
 "cells": [
  {
   "cell_type": "code",
   "execution_count": 20,
   "metadata": {},
   "outputs": [
    {
     "name": "stdout",
     "output_type": "stream",
     "text": [
      "                       name party  district    total      pac  %_pac\n",
      "1        FINELLO, CHRISTINA   DEM         1  2342577   247143  10.55\n",
      "2        FITZPATRICK, BRIAN   REP         1  3678876  1807531  49.13\n",
      "4          BOYLE, BRENDAN F   DEM         2  1529016  1123519  73.48\n",
      "5             EVANS, DWIGHT   DEM         3   943879   663355  70.28\n",
      "7           DEAN, MADELEINE   DEM         4  1569658   782491  49.85\n",
      "8           BARNETTE, KATHY   REP         4   970886    39005   4.02\n",
      "10        SCANLON, MARY GAY   DEM         5  1456213   379001  26.03\n",
      "11            PRUETT, DASHA   REP         5   105145     5250   4.99\n",
      "12        HOULAHAN, CHRISSY   DEM         6  3140100  1020062  32.49\n",
      "14         EMMONS, JOHN MR.   REP         6   418512    21500   5.14\n",
      "15              WILD, SUSAN   DEM         7  4460538  1027681  23.04\n",
      "16           SCHELLER, LISA   REP         7  1229973   231174  18.80\n",
      "17              HAAS, HARRY   REP         8    14038        0   0.00\n",
      "18              BOGNET, JIM   REP         8  1369594   189284  13.82\n",
      "19   CARTWRIGHT, MATTHEW A.   DEM         8  3602463  1173512  32.58\n",
      "20           MEUSER, DANIEL   REP         9  1018286   500103  49.11\n",
      "21             QUICK, LAURA   DEM         9     4639        0   0.00\n",
      "22             PERRY, SCOTT   REP        10  3993961   723679  18.12\n",
      "24       DEPASQUALE, EUGENE   DEM        10  4392872   690432  15.72\n",
      "25        SMUCKER, LLOYD K.   REP        11  1184219   757550  63.97\n",
      "26           HAMMOND, SARAH   DEM        11    28732      673   2.34\n",
      "27             GRIFFIN, LEE   DEM        12    45581     3820   8.38\n",
      "28             KELLER, FRED   REP        12  1512978   445712  29.46\n",
      "29              JOYCE, JOHN   REP        13   992792   657350  66.21\n",
      "30             ROWLEY, TODD   DEM        13    60348        1   0.00\n",
      "31   RESCHENTHALER, GUY MR.   REP        14  2254094   773715  34.32\n",
      "32  MARX, WILLIAM A MR. III   DEM        14    57652     5000   8.67\n",
      "34      THOMPSON, GLENN MR.   REP        15  1624262   806080  49.63\n",
      "36           GNIBUS, KRISTY   DEM        16   589951    78775  13.35\n",
      "37       KELLY, GEORGE J JR   REP        16  2109606  1472701  69.81\n",
      "38              LAMB, CONOR   DEM        17  4050396   697177  17.21\n",
      "39    PARNELL, RICHARD SEAN   REP        17  3494983   306128   8.76\n",
      "41             NEGRON, LUKE   REP        18    64485     8600  13.34\n",
      "42           DOYLE, MICHAEL   DEM        18   999655   759750  76.00\n",
      "#dems:  17 #reps:  17\n",
      "  party     total      pac  %_pac\n",
      "0   DEM  29274270  8652392  29.56\n",
      "1   REP  26036690  8745362  33.59\n"
     ]
    },
    {
     "data": {
      "text/plain": [
       "<matplotlib.axes._subplots.AxesSubplot at 0x7fe828423370>"
      ]
     },
     "execution_count": 20,
     "metadata": {},
     "output_type": "execute_result"
    },
    {
     "data": {
      "image/png": "[encoded data removed]",
      "text/plain": [
       "<Figure size 432x288 with 1 Axes>"
      ]
     },
     "metadata": {
      "needs_background": "light"
     },
     "output_type": "display_data"
    }
   ],
   "source": [
    "#Analysis of 2020 PA Congressional Spending: Individual Donations vs. PAC Donations -- Step 2. Analyze Data\n",
    "\n",
    "import pandas as pd\n",
    "import matplotlib.pyplot as plt\n",
    "%matplotlib inline\n",
    "\n",
    "df = pd.read_csv('insert csv path here')\n",
    "\n",
    "del df['id']\n",
    "df = df[(df['total']>0) & ((df['party']=='REP') | (df['party']=='DEM'))] #filter out libertarians, independents\n",
    "df['%_pac'] = round(100*(df.pac / df.total), 2)\n",
    "print(df)\n",
    "\n",
    "print('#dems: ', len(df[df['party']=='DEM']), '#reps: ', len(df[df['party']=='REP']))\n",
    "\n",
    "df2 = df.groupby(['party'], as_index = False).agg({'total':'sum','pac':'sum'}) #sum total, pac contributions by party\n",
    "df2['%_pac'] = round(100*(df2.pac / df2.total), 2)\n",
    "print(df2)\n",
    "\n",
    "df.plot.scatter(x = 'total', y = '%_pac')"
   ]
  },
  {
   "cell_type": "code",
   "execution_count": null,
   "metadata": {},
   "outputs": [],
   "source": []
  },
  {
   "cell_type": "code",
   "execution_count": null,
   "metadata": {},
   "outputs": [],
   "source": []
  }
 ],
 "metadata": {
  "kernelspec": {
   "display_name": "Python 3",
   "language": "python",
   "name": "python3"
  },
  "language_info": {
   "codemirror_mode": {
    "name": "ipython",
    "version": 3
   },
   "file_extension": ".py",
   "mimetype": "text/x-python",
   "name": "python",
   "nbconvert_exporter": "python",
   "pygments_lexer": "ipython3",
   "version": "3.8.3"
  }
 },
 "nbformat": 4,
 "nbformat_minor": 4
}
