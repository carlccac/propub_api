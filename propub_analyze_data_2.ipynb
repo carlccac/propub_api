{
 "cells": [
  {
   "cell_type": "markdown",
   "metadata": {},
   "source": [
    "Analysis of 2020 PA Congressional Spending: Individual Donations vs. PAC Donations -- Step 2. Analyze Data"
   ]
  },
  {
   "cell_type": "code",
   "execution_count": 70,
   "metadata": {},
   "outputs": [
    {
     "name": "stdout",
     "output_type": "stream",
     "text": [
      "                       name party  district    total      pac win  %_pac   %>45\n",
      "1        FINELLO, CHRISTINA   DEM         1  2342577   247143   L  10.55  False\n",
      "2        FITZPATRICK, BRIAN   REP         1  3678876  1807531   W  49.13   True\n",
      "4          BOYLE, BRENDAN F   DEM         2  1529016  1123519   W  73.48   True\n",
      "5             EVANS, DWIGHT   DEM         3   943879   663355   W  70.28   True\n",
      "7           DEAN, MADELEINE   DEM         4  1569658   782491   W  49.85   True\n",
      "8           BARNETTE, KATHY   REP         4   970886    39005   L   4.02  False\n",
      "10        SCANLON, MARY GAY   DEM         5  1456213   379001   W  26.03  False\n",
      "11            PRUETT, DASHA   REP         5   105145     5250   L   4.99  False\n",
      "12        HOULAHAN, CHRISSY   DEM         6  3140100  1020062   W  32.49  False\n",
      "14         EMMONS, JOHN MR.   REP         6   418512    21500   L   5.14  False\n",
      "15              WILD, SUSAN   DEM         7  4460538  1027681   W  23.04  False\n",
      "16           SCHELLER, LISA   REP         7  1229973   231174   L  18.80  False\n",
      "17              HAAS, HARRY   REP         8    14038        0   L   0.00  False\n",
      "18              BOGNET, JIM   REP         8  1369594   189284   L  13.82  False\n",
      "19   CARTWRIGHT, MATTHEW A.   DEM         8  3602463  1173512   W  32.58  False\n",
      "20           MEUSER, DANIEL   REP         9  1018286   500103   W  49.11   True\n",
      "21             QUICK, LAURA   DEM         9     4639        0   L   0.00  False\n",
      "22             PERRY, SCOTT   REP        10  3993961   723679   W  18.12  False\n",
      "24       DEPASQUALE, EUGENE   DEM        10  4392872   690432   L  15.72  False\n",
      "25        SMUCKER, LLOYD K.   REP        11  1184219   757550   W  63.97   True\n",
      "26           HAMMOND, SARAH   DEM        11    28732      673   L   2.34  False\n",
      "27             GRIFFIN, LEE   DEM        12    45581     3820   L   8.38  False\n",
      "28             KELLER, FRED   REP        12  1512978   445712   W  29.46  False\n",
      "29              JOYCE, JOHN   REP        13   992792   657350   W  66.21   True\n",
      "30             ROWLEY, TODD   DEM        13    60348        1   L   0.00  False\n",
      "31   RESCHENTHALER, GUY MR.   REP        14  2254094   773715   W  34.32  False\n",
      "32  MARX, WILLIAM A MR. III   DEM        14    57652     5000   L   8.67  False\n",
      "34      THOMPSON, GLENN MR.   REP        15  1624262   806080   W  49.63   True\n",
      "36           GNIBUS, KRISTY   DEM        16   589951    78775   L  13.35  False\n",
      "37       KELLY, GEORGE J JR   REP        16  2109606  1472701   W  69.81   True\n",
      "38              LAMB, CONOR   DEM        17  4050396   697177   W  17.21  False\n",
      "39    PARNELL, RICHARD SEAN   REP        17  3494983   306128   L   8.76  False\n",
      "41             NEGRON, LUKE   REP        18    64485     8600   L  13.34  False\n",
      "42           DOYLE, MICHAEL   DEM        18   999655   759750   W  76.00   True\n"
     ]
    }
   ],
   "source": [
    "import pandas as pd\n",
    "pd.set_option('display.max_columns', 10)\n",
    "pd.set_option('display.width', 1000)\n",
    "\n",
    "df = pd.read_csv('insert csv path here')\n",
    "\n",
    "del df['id']\n",
    "df = df[(df['total']>0) & ((df['party']=='REP') | (df['party']=='DEM'))] #filter out libertarians, independents\n",
    "df['%_pac'] = round(100*(df.pac / df.total), 2)\n",
    "df['%>45']=df['%_pac'] > 45\n",
    "print(df)\n"
   ]
  },
  {
   "cell_type": "markdown",
   "metadata": {},
   "source": [
    "How many Democrats ran, how many Republicans ran?"
   ]
  },
  {
   "cell_type": "code",
   "execution_count": 71,
   "metadata": {},
   "outputs": [
    {
     "name": "stdout",
     "output_type": "stream",
     "text": [
      "#dems:  17 #reps:  17\n"
     ]
    }
   ],
   "source": [
    "print('#dems: ', len(df[df['party']=='DEM']), '#reps: ', len(df[df['party']=='REP']))"
   ]
  },
  {
   "cell_type": "markdown",
   "metadata": {},
   "source": [
    "Total, PAC, %PAC Spending By Party"
   ]
  },
  {
   "cell_type": "code",
   "execution_count": 72,
   "metadata": {},
   "outputs": [
    {
     "name": "stdout",
     "output_type": "stream",
     "text": [
      "  party     total      pac  %_pac\n",
      "0   DEM  29274270  8652392  29.56\n",
      "1   REP  26036690  8745362  33.59\n"
     ]
    }
   ],
   "source": [
    "df2 = df.groupby(['party'], as_index = False).agg({'total':'sum','pac':'sum'}) #sum total, pac contributions by party\n",
    "df2['%_pac'] = round(100*(df2.pac / df2.total), 2)\n",
    "print(df2)"
   ]
  },
  {
   "cell_type": "markdown",
   "metadata": {},
   "source": [
    "Plots"
   ]
  },
  {
   "cell_type": "code",
   "execution_count": 73,
   "metadata": {},
   "outputs": [
    {
     "data": {
      "text/plain": [
       "array([[<matplotlib.axes._subplots.AxesSubplot object at 0x7ff2f720c280>]],\n",
       "      dtype=object)"
      ]
     },
     "execution_count": 73,
     "metadata": {},
     "output_type": "execute_result"
    },
    {
     "data": {
      "image/png": "[encoded data removed]",
      "text/plain": [
       "<Figure size 432x288 with 1 Axes>"
      ]
     },
     "metadata": {
      "needs_background": "light"
     },
     "output_type": "display_data"
    },
    {
     "data": {
      "image/png": "[encoded data removed]",
      "text/plain": [
       "<Figure size 432x288 with 1 Axes>"
      ]
     },
     "metadata": {
      "needs_background": "light"
     },
     "output_type": "display_data"
    }
   ],
   "source": [
    "df.plot.scatter(x = 'total', y = '%_pac', title='total donations vs. % from pac')\n",
    "df.hist(column='%_pac', bins=5)"
   ]
  },
  {
   "cell_type": "markdown",
   "metadata": {},
   "source": [
    "Does more PAC funding win elections?"
   ]
  },
  {
   "cell_type": "code",
   "execution_count": 74,
   "metadata": {},
   "outputs": [
    {
     "name": "stdout",
     "output_type": "stream",
     "text": [
      "                   name party  district    total      pac win  %_pac  %>45\n",
      "2    FITZPATRICK, BRIAN   REP         1  3678876  1807531   W  49.13  True\n",
      "4      BOYLE, BRENDAN F   DEM         2  1529016  1123519   W  73.48  True\n",
      "5         EVANS, DWIGHT   DEM         3   943879   663355   W  70.28  True\n",
      "7       DEAN, MADELEINE   DEM         4  1569658   782491   W  49.85  True\n",
      "20       MEUSER, DANIEL   REP         9  1018286   500103   W  49.11  True\n",
      "25    SMUCKER, LLOYD K.   REP        11  1184219   757550   W  63.97  True\n",
      "29          JOYCE, JOHN   REP        13   992792   657350   W  66.21  True\n",
      "34  THOMPSON, GLENN MR.   REP        15  1624262   806080   W  49.63  True\n",
      "37   KELLY, GEORGE J JR   REP        16  2109606  1472701   W  69.81  True\n",
      "42       DOYLE, MICHAEL   DEM        18   999655   759750   W  76.00  True\n"
     ]
    }
   ],
   "source": [
    "df3=df[df['%>45']]\n",
    "print(df3)"
   ]
  },
  {
   "cell_type": "markdown",
   "metadata": {},
   "source": [
    "All candidates with PAC donations greater than 45% of total donations won."
   ]
  },
  {
   "cell_type": "markdown",
   "metadata": {},
   "source": [
    "Number of Democrats, Republicans with PAC donations greater than 45% "
   ]
  },
  {
   "cell_type": "code",
   "execution_count": 76,
   "metadata": {},
   "outputs": [
    {
     "name": "stdout",
     "output_type": "stream",
     "text": [
      "       win\n",
      "party     \n",
      "DEM      4\n",
      "REP      6\n"
     ]
    }
   ],
   "source": [
    "print(df3.groupby(['party']).agg({'win':'count'}))"
   ]
  },
  {
   "cell_type": "code",
   "execution_count": null,
   "metadata": {},
   "outputs": [],
   "source": []
  }
 ],
 "metadata": {
  "kernelspec": {
   "display_name": "Python 3",
   "language": "python",
   "name": "python3"
  },
  "language_info": {
   "codemirror_mode": {
    "name": "ipython",
    "version": 3
   },
   "file_extension": ".py",
   "mimetype": "text/x-python",
   "name": "python",
   "nbconvert_exporter": "python",
   "pygments_lexer": "ipython3",
   "version": "3.8.3"
  }
 },
 "nbformat": 4,
 "nbformat_minor": 4
}
