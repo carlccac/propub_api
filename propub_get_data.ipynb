{
 "cells": [
  {
   "cell_type": "code",
   "execution_count": 7,
   "metadata": {},
   "outputs": [
    {
     "name": "stdout",
     "output_type": "stream",
     "text": [
      "                        name         id party district    total      pac\n",
      "0             SCHEETZ, STEVE  H0PA01341   LIB       01        0        0\n",
      "1         FINELLO, CHRISTINA  H0PA01325   DEM       01  2342577   247143\n",
      "2         FITZPATRICK, BRIAN  H6PA08277   REP       01  3678876  1807531\n",
      "3              TORRES, DAVID  H8PA02110   REP       02        0        0\n",
      "4           BOYLE, BRENDAN F  H4PA13199   DEM       02  1529016  1123519\n",
      "5              EVANS, DWIGHT  H6PA02171   DEM       03   943879   663355\n",
      "6            HARVEY, MICHAEL  H0PA03347   REP       03        0        0\n",
      "7            DEAN, MADELEINE  H8PA04116   DEM       04  1569658   782491\n",
      "8            BARNETTE, KATHY  H0PA04279   REP       04   970886    39005\n",
      "9          TARSHISH, JOE MR.  H0PA04287   IND       04       38        0\n",
      "10         SCANLON, MARY GAY  H8PA07200   DEM       05  1456213   379001\n",
      "11             PRUETT, DASHA  H0PA05094   REP       05   105145     5250\n",
      "12         HOULAHAN, CHRISSY  H8PA06087   DEM       06  3140100  1020062\n",
      "13            MCHUGH, JOHN H  H0PA06175   IND       06     6165        0\n",
      "14          EMMONS, JOHN MR.  H0PA06167   REP       06   418512    21500\n",
      "15               WILD, SUSAN  H8PA15229   DEM       07  4460538  1027681\n",
      "16            SCHELLER, LISA  H0PA07132   REP       07  1229973   231174\n",
      "17               HAAS, HARRY  H0PA08189   REP       08    14038        0\n",
      "18               BOGNET, JIM  H0PA08221   REP       08  1369594   189284\n",
      "19    CARTWRIGHT, MATTHEW A.  H2PA17079   DEM       08  3602463  1173512\n",
      "20            MEUSER, DANIEL  H8PA10147   REP       09  1018286   500103\n",
      "21              QUICK, LAURA  H8PA09081   DEM       09     4639        0\n",
      "22              PERRY, SCOTT  H2PA04135   REP       10  3993961   723679\n",
      "23  WOODARD, RASHAWN A MR SR  H0PA10144   IND       10        0        0\n",
      "24        DEPASQUALE, EUGENE  H0PA10110   DEM       10  4392872   690432\n",
      "25         SMUCKER, LLOYD K.  H6PA16320   REP       11  1184219   757550\n",
      "26            HAMMOND, SARAH  H0PA11183   DEM       11    28732      673\n",
      "27              GRIFFIN, LEE  H0PA12199   DEM       12    45581     3820\n",
      "28              KELLER, FRED  H0PA12181   REP       12  1512978   445712\n",
      "29               JOYCE, JOHN  H8PA13125   REP       13   992792   657350\n",
      "30              ROWLEY, TODD  H0PA13114   DEM       13    60348        1\n",
      "31    RESCHENTHALER, GUY MR.  H8PA18199   REP       14  2254094   773715\n",
      "32   MARX, WILLIAM A MR. III  H0PA14138   DEM       14    57652     5000\n",
      "33       HOWARD, LOGAN DAVID  H0PA14120   DEM       14        0        0\n",
      "34       THOMPSON, GLENN MR.  H8PA05071   REP       15  1624262   806080\n",
      "35          WILLIAMS, ROBERT  H0PA15127   DEM       15        0        0\n",
      "36            GNIBUS, KRISTY  H0PA16034   DEM       16   589951    78775\n",
      "37        KELLY, GEORGE J JR  H0PA03271   REP       16  2109606  1472701\n",
      "38               LAMB, CONOR  H8PA18181   DEM       17  4050396   697177\n",
      "39     PARNELL, RICHARD SEAN  H0PA17115   REP       17  3494983   306128\n",
      "40            MACK, KIMBERLY  H8PA18280   REP       18        0        0\n",
      "41              NEGRON, LUKE  H0PA18113   REP       18    64485     8600\n",
      "42            DOYLE, MICHAEL  H4PA18131   DEM       18   999655   759750\n"
     ]
    }
   ],
   "source": [
    "#Analysis of 2020 PA Congressional Spending: Individual Donations vs. PAC Donations -- Step 1. Get Data\n",
    "\n",
    "import requests, json \n",
    "import pandas as pd\n",
    "\n",
    "url = 'https://api.propublica.org/campaign-finance/v1/2020'\n",
    "h = {'X-API-Key': '8675309'}\n",
    "\n",
    "df = pd.DataFrame(columns=['name', 'id', 'party', 'district', 'total', 'pac']) #'id'= FEC ID\n",
    "\n",
    "r = requests.get(url+'/races/PA/house.json', headers = h) #get list of 2020 PA congress candidates from propublica\n",
    "    \n",
    "for i in range(len(r.json()['results'])): #add each candidates' info to data frame\n",
    "    df = df.append({'name': r.json()['results'][i]['candidate']['name'], \n",
    "                    'id': r.json()['results'][i]['candidate']['id'], \n",
    "                    'party':r.json()['results'][i]['candidate']['party'],},ignore_index = True)\n",
    "\n",
    "for j in range(len(df)): #get info for each candidate from propublica using FEC ID, add to data frame\n",
    "    s = requests.get(url+'/candidates/%s.json' %(df.iloc[j,1]), headers = h)\n",
    "    df.iat[j,3] = s.json()['results'][0]['district'][16:18]\n",
    "    df.iat[j,4] = int(s.json()['results'][0]['total_contributions'])\n",
    "    df.iat[j,5] = int(s.json()['results'][0]['total_from_pacs'])\n",
    "\n",
    "df.to_csv('propub_csv', index = None, header=True) #save data frame to csv\n",
    "print(df)\n"
   ]
  },
  {
   "cell_type": "code",
   "execution_count": null,
   "metadata": {},
   "outputs": [],
   "source": []
  }
 ],
 "metadata": {
  "kernelspec": {
   "display_name": "Python 3",
   "language": "python",
   "name": "python3"
  },
  "language_info": {
   "codemirror_mode": {
    "name": "ipython",
    "version": 3
   },
   "file_extension": ".py",
   "mimetype": "text/x-python",
   "name": "python",
   "nbconvert_exporter": "python",
   "pygments_lexer": "ipython3",
   "version": "3.8.3"
  }
 },
 "nbformat": 4,
 "nbformat_minor": 4
}
